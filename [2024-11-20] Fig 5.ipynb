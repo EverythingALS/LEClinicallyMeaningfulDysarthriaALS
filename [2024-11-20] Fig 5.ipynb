{
 "cells": [
  {
   "cell_type": "code",
   "execution_count": 1,
   "metadata": {},
   "outputs": [],
   "source": [
    "import pandas as pd\n",
    "import numpy as np\n",
    "\n",
    "import matplotlib.pyplot as plt\n",
    "\n",
    "from scipy.stats import kstest"
   ]
  },
  {
   "cell_type": "code",
   "execution_count": 2,
   "metadata": {},
   "outputs": [],
   "source": [
    "df_run = pd.read_csv('fig_5.csv')\n",
    "feat_train = [\n",
    "'speaking_rate',\n",
    " 'whisper_confidence',\n",
    " 'hnr',\n",
    " 'envelope',\n",
    " 'f1_mean',\n",
    " 'f2_mean',\n",
    " 'f1_std',\n",
    " 'f2_std',\n",
    " 'jitter',\n",
    " 'shimmer',\n",
    " 'pitch_mean',\n",
    " 'pitch_std',\n",
    " 'cpp_1'\n",
    " ]"
   ]
  },
  {
   "cell_type": "markdown",
   "metadata": {},
   "source": [
    "### Model Training\n",
    "\n",
    "**Train-Test split - Outer Loop**"
   ]
  },
  {
   "cell_type": "code",
   "execution_count": 3,
   "metadata": {},
   "outputs": [],
   "source": [
    "def train_test_split_kstest(df, N_folds, seed=0, alpha=0.1, col_group_name='outer_fold'):\n",
    "    unique_users = df['user_id'].unique()\n",
    "    \n",
    "    any_test_passed = True\n",
    "    while any_test_passed:\n",
    "        np.random.seed(seed)\n",
    "        np.random.shuffle(unique_users)\n",
    "\n",
    "        if col_group_name in df.columns:\n",
    "            df.drop(columns = col_group_name, inplace=True)\n",
    "\n",
    "        df_group_assignments = pd.DataFrame({\n",
    "            'user_id': unique_users,\n",
    "            col_group_name: np.arange(len(unique_users)) % N_folds\n",
    "        })\n",
    "\n",
    "        df = df.merge(df_group_assignments, on='user_id', how='left')\n",
    "\n",
    "        p_value_groups = []\n",
    "        for group in range(N_folds):\n",
    "            s1 = df.query(f'{col_group_name} != @group').effort_mean\n",
    "            s2 = df.query(f'{col_group_name} == @group').effort_mean\n",
    "            p_value_group = kstest(s1, s2).pvalue\n",
    "            p_value_groups.append(p_value_group)\n",
    "\n",
    "        p_value_groups = np.array(p_value_groups)\n",
    "        any_test_passed = any(p_value_groups < alpha)\n",
    "        if not any_test_passed:\n",
    "            any_test_passed = False\n",
    "            break\n",
    "        seed += 1\n",
    "    return df_group_assignments, seed"
   ]
  },
  {
   "cell_type": "code",
   "execution_count": 4,
   "metadata": {},
   "outputs": [
    {
     "name": "stdout",
     "output_type": "stream",
     "text": [
      "Listo outer folds (seed=40)\n"
     ]
    }
   ],
   "source": [
    "# train-test split for outer folds\n",
    "\n",
    "N_folds_outer = 5\n",
    "N_folds_inner = 5\n",
    "df_groups = df_run[['user_id','effort_mean']].copy()\n",
    "df_group_assignments, seed = train_test_split_kstest(df_groups ,N_folds_outer, seed=10, alpha=0.1, col_group_name='outer_fold')\n",
    "\n",
    "if 'outer_fold' in df_run.columns:\n",
    "    df_run.drop(columns = 'outer_fold', inplace=True)\n",
    "df_run = df_run.merge(df_group_assignments, on='user_id', how='left')\n",
    "print(f'Listo outer folds (seed={seed})')\n",
    "\n",
    "df_group_assignments.rename(columns={'outer_fold':'fold'}).sort_values('fold').to_csv('5_folds.csv',index=False)"
   ]
  },
  {
   "cell_type": "code",
   "execution_count": 5,
   "metadata": {},
   "outputs": [
    {
     "name": "stdout",
     "output_type": "stream",
     "text": [
      "Listo inner folds de outer G0 (i=276) (inner_fold_0)\n",
      "Listo inner folds de outer G1 (i=151) (inner_fold_1)\n",
      "Listo inner folds de outer G2 (i=202) (inner_fold_2)\n",
      "Listo inner folds de outer G3 (i=27) (inner_fold_3)\n",
      "Listo inner folds de outer G4 (i=287) (inner_fold_4)\n"
     ]
    }
   ],
   "source": [
    "# train-test split for inner folds\n",
    "\n",
    "for outer_fold in range(N_folds_outer):\n",
    "    df_groups = df_run[['user_id','effort_mean','outer_fold']].copy()\n",
    "    df_groups = df_groups.query('outer_fold!=@outer_fold')\n",
    "    col_group_name = f'inner_fold_{outer_fold}'\n",
    "    \n",
    "    df_group_assignments,i = train_test_split_kstest(df_groups, N_folds_inner, seed=0, alpha=0.1, col_group_name=col_group_name)\n",
    "    \n",
    "    if col_group_name in df_run.columns:\n",
    "        df_run.drop(columns = col_group_name, inplace=True)\n",
    "    \n",
    "    # break\n",
    "    df_run = df_run.merge(df_group_assignments, on='user_id', how='left')\n",
    "    print(f'Listo inner folds de outer G{outer_fold} (i={i}) ({col_group_name})')"
   ]
  },
  {
   "cell_type": "markdown",
   "metadata": {},
   "source": [
    "**Model Training**"
   ]
  },
  {
   "cell_type": "code",
   "execution_count": 6,
   "metadata": {},
   "outputs": [],
   "source": [
    "from sklearn.pipeline import Pipeline\n",
    "from sklearn.preprocessing import StandardScaler\n",
    "from sklearn.linear_model import Lasso\n",
    "\n",
    "from sklearn.metrics import mean_squared_error, r2_score"
   ]
  },
  {
   "cell_type": "code",
   "execution_count": 7,
   "metadata": {},
   "outputs": [],
   "source": [
    "col_group_name = f'inner_fold_{outer_fold}'\n",
    "def evaluate_by_cv(model, df_train, feat_train, N_folds_inner, col_group_name):\n",
    "    df_results_cv = pd.DataFrame()\n",
    "    for inner_fold in range(N_folds_inner):\n",
    "\n",
    "        X_train_fold = df_train.query(f'{col_group_name} != @inner_fold')[feat_train]\n",
    "        y_train_fold = df_train.query(f'{col_group_name} != @inner_fold')['effort_mean']\n",
    "        \n",
    "        X_val_fold = df_train.query(f'{col_group_name} == @inner_fold')[feat_train]\n",
    "        y_val_fold = df_train.query(f'{col_group_name} == @inner_fold')['effort_mean']\n",
    "\n",
    "        model.fit(X_train_fold, y_train_fold)\n",
    "\n",
    "        y_val_fold_pred = model.predict(X_val_fold)\n",
    "\n",
    "        df_results_cv.loc[0,f'rmse_val_{inner_fold}'] = mean_squared_error(y_val_fold, y_val_fold_pred, squared=False)\n",
    "        \n",
    "        df_results_cv.loc[0,f'r2_val_{inner_fold}'] = r2_score(y_val_fold, y_val_fold_pred)\n",
    "\n",
    "    return df_results_cv"
   ]
  },
  {
   "cell_type": "code",
   "execution_count": 8,
   "metadata": {},
   "outputs": [
    {
     "data": {
      "text/plain": [
       "array([1.00000000e-03, 1.77827941e-03, 3.16227766e-03, 5.62341325e-03,\n",
       "       1.00000000e-02, 1.77827941e-02, 3.16227766e-02, 5.62341325e-02,\n",
       "       1.00000000e-01, 1.77827941e-01, 3.16227766e-01, 5.62341325e-01,\n",
       "       1.00000000e+00, 1.77827941e+00, 3.16227766e+00, 5.62341325e+00,\n",
       "       1.00000000e+01, 1.77827941e+01, 3.16227766e+01])"
      ]
     },
     "execution_count": 8,
     "metadata": {},
     "output_type": "execute_result"
    }
   ],
   "source": [
    "alphas = np.logspace(-3, 2, 21)\n",
    "alphas = alphas[:-2]\n",
    "alphas"
   ]
  },
  {
   "cell_type": "code",
   "execution_count": 9,
   "metadata": {},
   "outputs": [
    {
     "name": "stdout",
     "output_type": "stream",
     "text": [
      "Outer fold 0\n"
     ]
    },
    {
     "name": "stdout",
     "output_type": "stream",
     "text": [
      "------------------------\n",
      "Outer fold 1\n",
      "------------------------\n",
      "Outer fold 2\n",
      "------------------------\n",
      "Outer fold 3\n",
      "------------------------\n",
      "Outer fold 4\n",
      "------------------------\n"
     ]
    }
   ],
   "source": [
    "np.random.seed(2023)\n",
    "df_results_inner = []\n",
    "df_fold_predictons = pd.DataFrame()\n",
    "\n",
    "for outer_fold in range(N_folds_outer):\n",
    "    print(f'Outer fold {outer_fold}')\n",
    "\n",
    "    df_train = df_run.query('outer_fold != @outer_fold').copy()\n",
    "    df_test = df_run.query('outer_fold == @outer_fold').copy()\n",
    "\n",
    "    for alpha in alphas:\n",
    "    \n",
    "        lasso_pipeline = Pipeline([\n",
    "                            ('scaler', StandardScaler()),\n",
    "                            ('lasso', Lasso(max_iter = 10000, alpha=alpha))\n",
    "                        ])\n",
    "            \n",
    "        df_results_cv = evaluate_by_cv(lasso_pipeline, df_train, feat_train, N_folds_inner, col_group_name)\n",
    "        df_results_cv['outer_fold'] = outer_fold\n",
    "        df_results_cv['alpha'] = alpha\n",
    "                \n",
    "        lasso_pipeline.fit(df_train[feat_train], df_train['effort_mean'])\n",
    "        y_test_pred = lasso_pipeline.predict(df_test[feat_train])\n",
    "\n",
    "        df_results_inner.append(df_results_cv)\n",
    "    print('------------------------')\n",
    "\n",
    "df_results_inner = pd.concat(df_results_inner, ignore_index=True)\n"
   ]
  },
  {
   "cell_type": "code",
   "execution_count": 10,
   "metadata": {},
   "outputs": [],
   "source": [
    "df_results_inner['rmse_val_mean'] = df_results_inner[[f'rmse_val_{fold}' for fold in range(N_folds_inner)]].mean(axis=1)\n",
    "df_results_inner['rmse_val_std'] = df_results_inner[[f'rmse_val_{fold}' for fold in range(N_folds_inner)]].std(axis=1)\n",
    "\n",
    "df_results_inner['r2_val_mean'] = df_results_inner[[f'r2_val_{fold}' for fold in range(N_folds_inner)]].mean(axis=1)\n",
    "df_results_inner['r2_val_std'] = df_results_inner[[f'r2_val_{fold}' for fold in range(N_folds_inner)]].std(axis=1)"
   ]
  },
  {
   "cell_type": "code",
   "execution_count": 11,
   "metadata": {},
   "outputs": [
    {
     "name": "stdout",
     "output_type": "stream",
     "text": [
      "Outer fold 0 - Best alpha: 0.1778279410038923\n",
      "Outer fold 1 - Best alpha: 0.1\n",
      "Outer fold 2 - Best alpha: 0.5623413251903491\n",
      "Outer fold 3 - Best alpha: 0.05623413251903491\n",
      "Outer fold 4 - Best alpha: 0.005623413251903491\n"
     ]
    },
    {
     "data": {
      "image/png": "[encoded data removed]",
      "text/plain": [
       "<Figure size 1080x288 with 2 Axes>"
      ]
     },
     "metadata": {
      "needs_background": "light"
     },
     "output_type": "display_data"
    }
   ],
   "source": [
    "fig, axs = plt.subplots(1, 2, figsize=(15, 4), tight_layout=True)\n",
    "\n",
    "alphas_selected = []\n",
    "for outer_fold in range(N_folds_outer):\n",
    "    df_results_outer = df_results_inner.query('outer_fold == @outer_fold')\n",
    "    best_alpha = df_results_outer.loc[df_results_outer['rmse_val_mean'].idxmin(), 'alpha']\n",
    "    print(f'Outer fold {outer_fold} - Best alpha: {best_alpha}')\n",
    "    \n",
    "    alphas_selected.append(best_alpha)\n",
    "    \n",
    "    axs[0].plot(df_results_outer.alpha, df_results_outer.rmse_val_mean, 'o-')\n",
    "    axs[0].set_xlabel('alpha')\n",
    "    axs[0].set_ylabel('rmse_val_mean')\n",
    "\n",
    "    axs[1].plot(df_results_outer.alpha*(1+.08*outer_fold), df_results_outer.r2_val_mean, 'o-')\n",
    "    axs[1].errorbar(df_results_outer.alpha*(1+.08*outer_fold), df_results_outer.r2_val_mean, df_results_outer.r2_val_std,c=[.5,0.5,0.5])\n",
    "    axs[1].set_xlabel('alpha')\n",
    "    axs[1].set_ylabel('r2_val_mean')\n",
    "    axs[1].set_ylim(0.6,1)\n",
    "\n",
    "for ax in axs:\n",
    "    ax.set_xscale('log')"
   ]
  },
  {
   "cell_type": "code",
   "execution_count": 12,
   "metadata": {},
   "outputs": [
    {
     "name": "stdout",
     "output_type": "stream",
     "text": [
      "Outer fold 0\n",
      "------------------------\n",
      "Outer fold 1\n",
      "------------------------\n",
      "Outer fold 2\n",
      "------------------------\n",
      "Outer fold 3\n",
      "------------------------\n",
      "Outer fold 4\n",
      "------------------------\n"
     ]
    }
   ],
   "source": [
    "np.random.seed(2023)\n",
    "df_results_outer = pd.DataFrame()\n",
    "df_feature_weights = pd.DataFrame()\n",
    "df_fold_predictions = pd.DataFrame()\n",
    "\n",
    "for outer_fold in range(N_folds_outer):\n",
    "    print(f'Outer fold {outer_fold}')\n",
    "    df_train = df_run.query('outer_fold != @outer_fold').copy()\n",
    "    df_test = df_run.query('outer_fold == @outer_fold').copy()\n",
    "\n",
    "    alpha = 0.1\n",
    "    lasso_pipeline = Pipeline([('scaler', StandardScaler()),\n",
    "                        ('lasso', Lasso(max_iter = 10000, alpha=alpha))])\n",
    "        \n",
    "    lasso_pipeline.fit(df_train[feat_train], df_train['effort_mean'])\n",
    "    \n",
    "    y_test_pred = lasso_pipeline.predict(df_test[feat_train])\n",
    "    df_fold_predictions = pd.concat((df_fold_predictions,\n",
    "                            pd.DataFrame({'observed':df_test['effort_mean'].values,\n",
    "                                          'predicted':y_test_pred,\n",
    "                                          'outer_fold':np.repeat(outer_fold,len(y_test_pred))}))).reset_index(drop=True)\n",
    "\n",
    "    df_results_outer.loc[outer_fold, f'rmse_val'] = mean_squared_error(df_test['effort_mean'], y_test_pred, squared=False)\n",
    "    df_results_outer.loc[outer_fold, f'r2_val'] = r2_score(df_test['effort_mean'], y_test_pred)\n",
    "    df_feature_weights[f'outer_fold_{outer_fold}'] = lasso_pipeline.named_steps['lasso'].coef_\n",
    "\n",
    "\n",
    "    print('------------------------')\n",
    "df_feature_weights.index = feat_train"
   ]
  },
  {
   "cell_type": "code",
   "execution_count": 13,
   "metadata": {},
   "outputs": [
    {
     "data": {
      "text/plain": [
       "(0.8326910426918781, 0.07005122356975968)"
      ]
     },
     "execution_count": 13,
     "metadata": {},
     "output_type": "execute_result"
    }
   ],
   "source": [
    "df_results_outer.r2_val.mean(), df_results_outer.r2_val.std()"
   ]
  },
  {
   "cell_type": "code",
   "execution_count": 14,
   "metadata": {},
   "outputs": [
    {
     "data": {
      "text/plain": [
       "(8.556713334281923, 0.6044891139067493)"
      ]
     },
     "execution_count": 14,
     "metadata": {},
     "output_type": "execute_result"
    }
   ],
   "source": [
    "df_results_outer.rmse_val.mean(), df_results_outer.rmse_val.std()"
   ]
  },
  {
   "cell_type": "code",
   "execution_count": 15,
   "metadata": {},
   "outputs": [
    {
     "name": "stdout",
     "output_type": "stream",
     "text": [
      "Outer fold 0\n",
      "------------------------\n",
      "Outer fold 1\n",
      "------------------------\n",
      "Outer fold 2\n",
      "------------------------\n",
      "Outer fold 3\n",
      "------------------------\n",
      "Outer fold 4\n",
      "------------------------\n",
      "F-statistic: 292.2095019489602\n",
      "P-value: 1.1102230246251565e-16\n"
     ]
    }
   ],
   "source": [
    "# R2 p-val\n",
    "\n",
    "all_y_test = []\n",
    "all_y_pred = []\n",
    "for outer_fold in range(N_folds_outer):\n",
    "    print(f'Outer fold {outer_fold}')\n",
    "    df_train = df_run.query('outer_fold != @outer_fold').copy()\n",
    "    df_test = df_run.query('outer_fold == @outer_fold').copy()\n",
    "\n",
    "    alpha = 0.1\n",
    "    lasso_pipeline = Pipeline([('scaler', StandardScaler()),\n",
    "                        ('lasso', Lasso(max_iter = 10000, alpha=alpha))])\n",
    "        \n",
    "    lasso_pipeline.fit(df_train[feat_train], df_train['effort_mean'])\n",
    "    \n",
    "    y_test_pred = lasso_pipeline.predict(df_test[feat_train])\n",
    "\n",
    "    all_y_test.extend(df_test['effort_mean'].values)\n",
    "    all_y_pred.extend(y_test_pred)\n",
    "\n",
    "\n",
    "    print('------------------------')\n",
    "\n",
    "from sklearn.metrics import r2_score\n",
    "from scipy.stats import f\n",
    "# Calculate R^2\n",
    "r2 = r2_score(all_y_test, all_y_pred)\n",
    "\n",
    "# Parameters for F-statistic\n",
    "n = len(all_y_test)  # Number of data points\n",
    "k = len(feat_train)  # Number of predictors\n",
    "\n",
    "# Calculate F-statistic\n",
    "F = (r2 / k) / ((1 - r2) / (n - k - 1))\n",
    "\n",
    "# Calculate p-value\n",
    "p_value = 1 - f.cdf(F, dfn=k, dfd=n - k - 1)\n",
    "\n",
    "print(f\"F-statistic: {F}\")\n",
    "print(f\"P-value: {p_value}\")"
   ]
  },
  {
   "cell_type": "markdown",
   "metadata": {},
   "source": [
    "##### Figure for paper"
   ]
  },
  {
   "cell_type": "code",
   "execution_count": 16,
   "metadata": {},
   "outputs": [
    {
     "name": "stdout",
     "output_type": "stream",
     "text": [
      "oldpos: [0.125, 0.125, 0.775, 0.755]\n",
      "newpos: [0.125   0.      0.79825 1.     ]\n"
     ]
    },
    {
     "data": {
      "text/plain": [
       "<Figure size 432x288 with 0 Axes>"
      ]
     },
     "metadata": {},
     "output_type": "display_data"
    },
    {
     "data": {
      "image/png": "[encoded data removed]",
      "text/plain": [
       "<Figure size 576x288 with 2 Axes>"
      ]
     },
     "metadata": {
      "needs_background": "light"
     },
     "output_type": "display_data"
    }
   ],
   "source": [
    "plt.set_cmap(\"tab10\") \n",
    "\n",
    "fig, axs = plt.subplots(1, 2, layout='constrained', figsize=(8, 4))\n",
    "gridspec = axs[1].get_subplotspec().get_gridspec()\n",
    "\n",
    "# clear the left column for the subfigure:\n",
    "axs[1].remove()\n",
    "\n",
    "np.random.seed(seed=1)\n",
    "df_fold_predictions = df_fold_predictions.iloc[np.random.permutation(len(df_fold_predictions))] # Para que no queden todos los del ultimo fold arriba\n",
    "axs[0].scatter(df_fold_predictions.observed,df_fold_predictions.predicted,c=df_fold_predictions.outer_fold,alpha=0.5,s=10)\n",
    "axs[0].set_xlabel('Observed')\n",
    "axs[0].set_ylabel('Predicted')\n",
    "axs[0].set_ylim(-20, 100)\n",
    "axs[0].set_xlim(-1, 101)\n",
    "axs[0].plot([0,100], [0,100], color='black', linestyle='--')\n",
    "axs[0].set_aspect('equal')\n",
    "axs[0].yaxis.set_label_coords(-0.12,0.5)\n",
    "axs[0].text(x=-.5,y=axs[0].get_ylim()[1]*1.07,va='center',ha='center',s='A',fontsize=25)    \n",
    "\n",
    "# make the subfigure in the empty gridspec slots:\n",
    "subfig = fig.add_subfigure(gridspec[1])\n",
    "axsLeft = subfig.subplots(1, 1)\n",
    "\n",
    "\n",
    "df_plot = pd.DataFrame([df_feature_weights.mean(axis=1), df_feature_weights.std(axis=1)]).T\n",
    "df_plot.columns = ['mean','std']\n",
    "df_plot['feature'] = df_plot.index\n",
    "df_plot['mean'] = np.abs(df_plot['mean'])\n",
    "norm = np.sum(df_plot['mean'])\n",
    "df_plot['std'] = df_plot['std']/norm\n",
    "df_plot['mean'] = df_plot['mean']/norm\n",
    "df_plot = df_plot.sort_values('mean',ascending=False)\n",
    "newnames = {'whisper_confidence':'Whisper Conf.','speaking_rate':'SR','envelope':'Envelope','hnr':'HNR','f2_std':'std(F2)',\n",
    "         'pitch_std':'std(pitch)','f1_mean':'F1','f2_mean':'F2','pitch_mean':'Pitch','jitter':'Jitter','shimmer':'Shimmer','f1_std':'std(F1)','cpp_1':'CPP'}\n",
    "for val in newnames:\n",
    "    df_plot['feature'] = df_plot['feature'].str.replace(val,newnames[val])\n",
    "\n",
    "df_plot.plot.bar(ax=axsLeft,x='feature', y='mean', yerr='std',legend=False)\n",
    "axsLeft.set_yticks(ticks=[0,0.2,0.4,0.6])   \n",
    "axsLeft.set_xlabel('')\n",
    "axsLeft.set_ylabel('Relative weight')\n",
    "\n",
    "\n",
    "axsLeft.text(x=-.5,y=axsLeft.get_ylim()[1]*1.07,va='center',ha='center',s='B',fontsize=25)\n",
    "pos1 = axsLeft.get_position()\n",
    "print('oldpos:',[pos1.x0, pos1.y0,  pos1.width, pos1.height])\n",
    "pos2 = [pos1.x0, pos1.y0,  pos1.width, pos1.height] \n",
    "pos2 = [pos1.x0 , pos1.y0 - .125,  pos1.width*1.03, pos1.height + .245] \n",
    "print('newpos:',np.round(pos2,5))\n",
    "axsLeft.set_position(pos2) \n",
    "plt.show()"
   ]
  }
 ],
 "metadata": {
  "kernelspec": {
   "display_name": "pytorch_p38",
   "language": "python",
   "name": "python3"
  },
  "language_info": {
   "codemirror_mode": {
    "name": "ipython",
    "version": 3
   },
   "file_extension": ".py",
   "mimetype": "text/x-python",
   "name": "python",
   "nbconvert_exporter": "python",
   "pygments_lexer": "ipython3",
   "version": "3.8.12"
  }
 },
 "nbformat": 4,
 "nbformat_minor": 4
}
